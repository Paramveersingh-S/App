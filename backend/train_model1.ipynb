{
 "cells": [
  {
   "cell_type": "code",
   "execution_count": null,
   "id": "e8766d1c-afbc-46c6-901c-ea918f8bbfec",
   "metadata": {},
   "outputs": [
    {
     "name": "stdout",
     "output_type": "stream",
     "text": [
      "--- Starting Model Training --- \n"
     ]
    }
   ],
   "source": [
    "import pandas as pd\n",
    "import xgboost as xgb\n",
    "import joblib\n",
    "import numpy as np\n",
    "from sqlalchemy import text\n",
    "from database import engine\n",
    "from sklearn.model_selection import train_test_split\n",
    "from sklearn.metrics import mean_squared_error\n",
    "\n",
    "print(\"--- Starting Model Training --- \")"
   ]
  },
  {
   "cell_type": "code",
   "execution_count": null,
   "id": "14ea816d-f233-4d92-943f-621494253f11",
   "metadata": {},
   "outputs": [
    {
     "name": "stdout",
     "output_type": "stream",
     "text": [
      "Loading and joining data from the database...\n",
      "Loaded 168 rows of combined data.\n"
     ]
    }
   ],
   "source": [
    "query = \"\"\"\n",
    "SELECT \n",
    "    aq.time,\n",
    "    COALESCE(aq.aqi, aq.pm25, aq.pm10, aq.o3, aq.no2, aq.so2, aq.co) as aqi,\n",
    "    wf.temperature_2m,\n",
    "    wf.relative_humidity_2m,\n",
    "    wf.precipitation,\n",
    "    wf.wind_speed_10m\n",
    "FROM air_quality_data aq\n",
    "JOIN weather_forecasts wf ON date_trunc('hour', aq.time AT TIME ZONE 'UTC') = wf.time\n",
    "WHERE COALESCE(aq.aqi, aq.pm25, aq.pm10, aq.o3, aq.no2, aq.so2, aq.co) IS NOT NULL;\n",
    "\"\"\"\n",
    "\n",
    "print(\"Loading and joining data from the database...\")\n",
    "df = pd.read_sql(query, engine)\n",
    "df = df.sort_values(by='time').reset_index(drop=True)\n",
    "print(f\"Loaded {len(df)} rows of combined data.\")"
   ]
  },
  {
   "cell_type": "code",
   "execution_count": null,
   "id": "ff4ba289-5552-432c-8bf8-fccd9978021a",
   "metadata": {},
   "outputs": [
    {
     "name": "stdout",
     "output_type": "stream",
     "text": [
      "Data prepared for training with 144 clean rows.\n"
     ]
    }
   ],
   "source": [
    "df['time'] = pd.to_datetime(df['time'])\n",
    "df['hour'] = df['time'].dt.hour\n",
    "df['dayofweek'] = df['time'].dt.dayofweek\n",
    "df['month'] = df['time'].dt.month\n",
    "\n",
    "# --- THIS IS THE KEY UPGRADE ---\n",
    "df['aqi_lag_1'] = df['aqi'].shift(1)\n",
    "df['aqi_lag_2'] = df['aqi'].shift(2)\n",
    "df['aqi_lag_24'] = df['aqi'].shift(24) # AQI from the same time yesterday\n",
    "\n",
    "# Drop rows with NaN values created by the shift\n",
    "df = df.dropna()\n",
    "\n",
    "features = ['temperature_2m', 'relative_humidity_2m', 'precipitation', 'wind_speed_10m', 'hour', 'dayofweek', 'month', 'aqi_lag_1', 'aqi_lag_2', 'aqi_lag_24']\n",
    "target = 'aqi'\n",
    "\n",
    "X = df[features]\n",
    "y = df[target]\n",
    "\n",
    "print(f\"Data prepared for training with {len(df)} clean rows.\")"
   ]
  },
  {
   "cell_type": "code",
   "execution_count": null,
   "id": "ca27196f-48a3-4747-92a0-a546143f3eb7",
   "metadata": {},
   "outputs": [
    {
     "name": "stdout",
     "output_type": "stream",
     "text": [
      "Data prepared for training.\n"
     ]
    }
   ],
   "source": [
    "df['time'] = pd.to_datetime(df['time'])\n",
    "df['hour'] = df['time'].dt.hour\n",
    "df['dayofweek'] = df['time'].dt.dayofweek\n",
    "df['month'] = df['time'].dt.month\n",
    "\n",
    "features = ['temperature_2m', 'relative_humidity_2m', 'precipitation', 'wind_speed_10m', 'hour', 'dayofweek', 'month']\n",
    "target = 'aqi'\n",
    "\n",
    "X = df[features]\n",
    "y = df[target]\n",
    "\n",
    "print(\"Data prepared for training.\")"
   ]
  },
  {
   "cell_type": "code",
   "execution_count": null,
   "id": "716f0894-86fa-4145-bde5-bc5a8d366f60",
   "metadata": {},
   "outputs": [
    {
     "name": "stdout",
     "output_type": "stream",
     "text": [
      "Training the XGBoost model...\n",
      "Model training complete. RMSE: 74.13\n"
     ]
    }
   ],
   "source": [
    "X_train, X_test, y_train, y_test = train_test_split(X, y, test_size=0.2, random_state=42, shuffle=False) # Do not shuffle time-series data\n",
    "\n",
    "model = xgb.XGBRegressor(\n",
    "    objective='reg:squarederror',\n",
    "    n_estimators=1000,\n",
    "    learning_rate=0.05,\n",
    "    max_depth=5,\n",
    "    early_stopping_rounds=10\n",
    ")\n",
    "\n",
    "print(\"Training the improved XGBoost model...\")\n",
    "model.fit(X_train, y_train, eval_set=[(X_test, y_test)], verbose=False)\n",
    "\n",
    "preds = model.predict(X_test)\n",
    "mse = mean_squared_error(y_test, preds)\n",
    "rmse = np.sqrt(mse)\n",
    "print(f\"V2 Model training complete. New RMSE: {rmse:.2f}\")"
   ]
  },
  {
   "cell_type": "code",
   "execution_count": null,
   "id": "8bc875e3-1779-4e92-839f-c907928554bf",
   "metadata": {},
   "outputs": [
    {
     "name": "stdout",
     "output_type": "stream",
     "text": [
      "✅ Model saved successfully as 'aqi_forecaster.joblib'\n"
     ]
    }
   ],
   "source": [
    "model_filename = 'aqi_forecaster.joblib'\n",
    "joblib.dump(model, model_filename)\n",
    "print(f\"✅ Model saved successfully as '{model_filename}'\")"
   ]
  },
  {
   "cell_type": "code",
   "execution_count": null,
   "id": "206c4bb2-b686-45ee-8c0d-09a15969c1b3",
   "metadata": {},
   "outputs": [],
   "source": []
  }
 ],
 "metadata": {
  "kernelspec": {
   "display_name": "Python 3 (ipykernel)",
   "language": "python",
   "name": "python3"
  },
  "language_info": {
   "codemirror_mode": {
    "name": "ipython",
    "version": 3
   },
   "file_extension": ".py",
   "mimetype": "text/x-python",
   "name": "python",
   "nbconvert_exporter": "python",
   "pygments_lexer": "ipython3",
   "version": "3.13.4"
  }
 },
 "nbformat": 4,
 "nbformat_minor": 5
}
